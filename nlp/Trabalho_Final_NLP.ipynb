{
 "cells": [
  {
   "cell_type": "markdown",
   "metadata": {},
   "source": [
    "#### **1 - Importando as Libs** "
   ]
  },
  {
   "cell_type": "code",
   "execution_count": 2,
   "metadata": {},
   "outputs": [
    {
     "name": "stderr",
     "output_type": "stream",
     "text": [
      "[nltk_data] Downloading package stopwords to\n",
      "[nltk_data]     /Users/felipe/nltk_data...\n",
      "[nltk_data]   Package stopwords is already up-to-date!\n"
     ]
    },
    {
     "data": {
      "text/plain": [
       "True"
      ]
     },
     "execution_count": 2,
     "metadata": {},
     "output_type": "execute_result"
    }
   ],
   "source": [
    "import string, re\n",
    "import pandas as pd\n",
    "import unidecode\n",
    "import nltk\n",
    "\n",
    "from nltk import tokenize\n",
    "from string import punctuation\n",
    "\n",
    "from wordcloud import WordCloud\n",
    "import matplotlib.pyplot as plt\n",
    "%matplotlib inline\n",
    "\n",
    "from sklearn.feature_extraction.text import TfidfVectorizer\n",
    "from sklearn.model_selection import train_test_split\n",
    "\n",
    "#modelos\n",
    "from sklearn.tree import DecisionTreeClassifier \n",
    "from sklearn.naive_bayes import MultinomialNB\n",
    "from sklearn.linear_model import LogisticRegression\n",
    "from sklearn.linear_model import SGDClassifier\n",
    "from sklearn.ensemble import RandomForestClassifier\n",
    "from sklearn import svm\n",
    "\n",
    "from sklearn.model_selection import ParameterGrid\n",
    "\n",
    "from sklearn.metrics import classification_report, confusion_matrix, accuracy_score, roc_auc_score\n",
    "\n",
    "#download de dados da biblioteca dos corporas\n",
    "nltk.download('stopwords')"
   ]
  },
  {
   "cell_type": "markdown",
   "metadata": {},
   "source": [
    "#### **2 - Carregando o Dataset**"
   ]
  },
  {
   "cell_type": "code",
   "execution_count": 3,
   "metadata": {},
   "outputs": [
    {
     "data": {
      "text/html": [
       "<div>\n",
       "<style scoped>\n",
       "    .dataframe tbody tr th:only-of-type {\n",
       "        vertical-align: middle;\n",
       "    }\n",
       "\n",
       "    .dataframe tbody tr th {\n",
       "        vertical-align: top;\n",
       "    }\n",
       "\n",
       "    .dataframe thead th {\n",
       "        text-align: right;\n",
       "    }\n",
       "</style>\n",
       "<table border=\"1\" class=\"dataframe\">\n",
       "  <thead>\n",
       "    <tr style=\"text-align: right;\">\n",
       "      <th></th>\n",
       "      <th>id</th>\n",
       "      <th>text_en</th>\n",
       "      <th>text_pt</th>\n",
       "      <th>sentiment</th>\n",
       "    </tr>\n",
       "  </thead>\n",
       "  <tbody>\n",
       "    <tr>\n",
       "      <td>0</td>\n",
       "      <td>1</td>\n",
       "      <td>Once again Mr. Costner has dragged out a movie...</td>\n",
       "      <td>Mais uma vez, o Sr. Costner arrumou um filme p...</td>\n",
       "      <td>neg</td>\n",
       "    </tr>\n",
       "    <tr>\n",
       "      <td>1</td>\n",
       "      <td>2</td>\n",
       "      <td>This is an example of why the majority of acti...</td>\n",
       "      <td>Este é um exemplo do motivo pelo qual a maiori...</td>\n",
       "      <td>neg</td>\n",
       "    </tr>\n",
       "    <tr>\n",
       "      <td>2</td>\n",
       "      <td>3</td>\n",
       "      <td>First of all I hate those moronic rappers, who...</td>\n",
       "      <td>Primeiro de tudo eu odeio esses raps imbecis, ...</td>\n",
       "      <td>neg</td>\n",
       "    </tr>\n",
       "    <tr>\n",
       "      <td>3</td>\n",
       "      <td>4</td>\n",
       "      <td>Not even the Beatles could write songs everyon...</td>\n",
       "      <td>Nem mesmo os Beatles puderam escrever músicas ...</td>\n",
       "      <td>neg</td>\n",
       "    </tr>\n",
       "    <tr>\n",
       "      <td>4</td>\n",
       "      <td>5</td>\n",
       "      <td>Brass pictures movies is not a fitting word fo...</td>\n",
       "      <td>Filmes de fotos de latão não é uma palavra apr...</td>\n",
       "      <td>neg</td>\n",
       "    </tr>\n",
       "  </tbody>\n",
       "</table>\n",
       "</div>"
      ],
      "text/plain": [
       "   id                                            text_en  \\\n",
       "0   1  Once again Mr. Costner has dragged out a movie...   \n",
       "1   2  This is an example of why the majority of acti...   \n",
       "2   3  First of all I hate those moronic rappers, who...   \n",
       "3   4  Not even the Beatles could write songs everyon...   \n",
       "4   5  Brass pictures movies is not a fitting word fo...   \n",
       "\n",
       "                                             text_pt sentiment  \n",
       "0  Mais uma vez, o Sr. Costner arrumou um filme p...       neg  \n",
       "1  Este é um exemplo do motivo pelo qual a maiori...       neg  \n",
       "2  Primeiro de tudo eu odeio esses raps imbecis, ...       neg  \n",
       "3  Nem mesmo os Beatles puderam escrever músicas ...       neg  \n",
       "4  Filmes de fotos de latão não é uma palavra apr...       neg  "
      ]
     },
     "execution_count": 3,
     "metadata": {},
     "output_type": "execute_result"
    }
   ],
   "source": [
    "imdb = pd.read_csv('imdb-reviews-pt-br.csv')\n",
    "imdb.head()"
   ]
  },
  {
   "cell_type": "markdown",
   "metadata": {},
   "source": [
    "###### Observamos que existem 4 colunas, um id que não iremos utilizar na análise, o texto em inglês, português e o sentimento que é nossa variável Target</br>\n",
    "\n",
    "###### Para o pré processamento do Dataframe utilizei os princípios mencionados neste artigo: \n",
    "###### https://medium.com/@pemagrg/pre-processing-text-in-python-ad13ea544dae <br> <br>\n",
    "\n",
    "#### **3 - Validação e tratamento do Dataset**\n",
    "-  1 - Avaliando a Distribuição para saber se o Dataset está balanceado\n",
    "   "
   ]
  },
  {
   "cell_type": "code",
   "execution_count": 4,
   "metadata": {},
   "outputs": [
    {
     "name": "stdout",
     "output_type": "stream",
     "text": [
      "neg    24765\n",
      "pos    24694\n",
      "Name: sentiment, dtype: int64\n"
     ]
    }
   ],
   "source": [
    "print(imdb['sentiment'].value_counts())"
   ]
  },
  {
   "cell_type": "markdown",
   "metadata": {},
   "source": [
    "###### O retorno nos mostra que os dados da variável Target estão Balanceados <br>\n",
    "\n",
    "-  2 - Validando Nulos"
   ]
  },
  {
   "cell_type": "code",
   "execution_count": 5,
   "metadata": {},
   "outputs": [
    {
     "name": "stdout",
     "output_type": "stream",
     "text": [
      "id           0\n",
      "text_en      0\n",
      "text_pt      0\n",
      "sentiment    0\n",
      "dtype: int64\n"
     ]
    }
   ],
   "source": [
    "print(imdb.isnull().sum())"
   ]
  },
  {
   "cell_type": "markdown",
   "metadata": {},
   "source": [
    "###### Não exitem nulos. O conjunto de dados está ok para o inicio dos trabalhos <br>\n",
    "\n",
    "- 3 -  Trocando \"neg\" e \"pos\" por 0 e 1 <br>\n",
    "Para analisar melhor os dados de sentimento e conseguir treinar o modelo, vamos representá-los numericamente. Em vez de \"neg\" de negativo e \"pos\" de positivo, trataremos apenas como 0 e 1."
   ]
  },
  {
   "cell_type": "code",
   "execution_count": 6,
   "metadata": {},
   "outputs": [
    {
     "data": {
      "text/html": [
       "<div>\n",
       "<style scoped>\n",
       "    .dataframe tbody tr th:only-of-type {\n",
       "        vertical-align: middle;\n",
       "    }\n",
       "\n",
       "    .dataframe tbody tr th {\n",
       "        vertical-align: top;\n",
       "    }\n",
       "\n",
       "    .dataframe thead th {\n",
       "        text-align: right;\n",
       "    }\n",
       "</style>\n",
       "<table border=\"1\" class=\"dataframe\">\n",
       "  <thead>\n",
       "    <tr style=\"text-align: right;\">\n",
       "      <th></th>\n",
       "      <th>id</th>\n",
       "      <th>text_en</th>\n",
       "      <th>text_pt</th>\n",
       "      <th>sentiment</th>\n",
       "      <th>sentimento</th>\n",
       "    </tr>\n",
       "  </thead>\n",
       "  <tbody>\n",
       "    <tr>\n",
       "      <td>0</td>\n",
       "      <td>1</td>\n",
       "      <td>Once again Mr. Costner has dragged out a movie...</td>\n",
       "      <td>Mais uma vez, o Sr. Costner arrumou um filme p...</td>\n",
       "      <td>neg</td>\n",
       "      <td>0</td>\n",
       "    </tr>\n",
       "    <tr>\n",
       "      <td>1</td>\n",
       "      <td>2</td>\n",
       "      <td>This is an example of why the majority of acti...</td>\n",
       "      <td>Este é um exemplo do motivo pelo qual a maiori...</td>\n",
       "      <td>neg</td>\n",
       "      <td>0</td>\n",
       "    </tr>\n",
       "    <tr>\n",
       "      <td>2</td>\n",
       "      <td>3</td>\n",
       "      <td>First of all I hate those moronic rappers, who...</td>\n",
       "      <td>Primeiro de tudo eu odeio esses raps imbecis, ...</td>\n",
       "      <td>neg</td>\n",
       "      <td>0</td>\n",
       "    </tr>\n",
       "    <tr>\n",
       "      <td>3</td>\n",
       "      <td>4</td>\n",
       "      <td>Not even the Beatles could write songs everyon...</td>\n",
       "      <td>Nem mesmo os Beatles puderam escrever músicas ...</td>\n",
       "      <td>neg</td>\n",
       "      <td>0</td>\n",
       "    </tr>\n",
       "    <tr>\n",
       "      <td>4</td>\n",
       "      <td>5</td>\n",
       "      <td>Brass pictures movies is not a fitting word fo...</td>\n",
       "      <td>Filmes de fotos de latão não é uma palavra apr...</td>\n",
       "      <td>neg</td>\n",
       "      <td>0</td>\n",
       "    </tr>\n",
       "  </tbody>\n",
       "</table>\n",
       "</div>"
      ],
      "text/plain": [
       "   id                                            text_en  \\\n",
       "0   1  Once again Mr. Costner has dragged out a movie...   \n",
       "1   2  This is an example of why the majority of acti...   \n",
       "2   3  First of all I hate those moronic rappers, who...   \n",
       "3   4  Not even the Beatles could write songs everyon...   \n",
       "4   5  Brass pictures movies is not a fitting word fo...   \n",
       "\n",
       "                                             text_pt sentiment  sentimento  \n",
       "0  Mais uma vez, o Sr. Costner arrumou um filme p...       neg           0  \n",
       "1  Este é um exemplo do motivo pelo qual a maiori...       neg           0  \n",
       "2  Primeiro de tudo eu odeio esses raps imbecis, ...       neg           0  \n",
       "3  Nem mesmo os Beatles puderam escrever músicas ...       neg           0  \n",
       "4  Filmes de fotos de latão não é uma palavra apr...       neg           0  "
      ]
     },
     "execution_count": 6,
     "metadata": {},
     "output_type": "execute_result"
    }
   ],
   "source": [
    "#criando uma nova coluna para armazenar os dados neg e pos convertidos para 0 e 1\n",
    "imdb['sentimento'] = imdb['sentiment'].replace(['neg', 'pos'], [0, 1])\n",
    "imdb.head()"
   ]
  },
  {
   "cell_type": "markdown",
   "metadata": {},
   "source": [
    "###### Agora existe mais uma coluna no DataFrame que iremos utilizar como nossa variável Target <br>\n",
    "\n",
    "-  4 - Retirando a Acentuação (Conversão do Texto para o Formato Unicode) <br> Para remover a acentuação irei utilizar a biblioteca Unidecode <br>\n",
    "Referência : https://pypi.org/project/Unidecode/"
   ]
  },
  {
   "cell_type": "code",
   "execution_count": 7,
   "metadata": {},
   "outputs": [
    {
     "data": {
      "text/html": [
       "<div>\n",
       "<style scoped>\n",
       "    .dataframe tbody tr th:only-of-type {\n",
       "        vertical-align: middle;\n",
       "    }\n",
       "\n",
       "    .dataframe tbody tr th {\n",
       "        vertical-align: top;\n",
       "    }\n",
       "\n",
       "    .dataframe thead th {\n",
       "        text-align: right;\n",
       "    }\n",
       "</style>\n",
       "<table border=\"1\" class=\"dataframe\">\n",
       "  <thead>\n",
       "    <tr style=\"text-align: right;\">\n",
       "      <th></th>\n",
       "      <th>id</th>\n",
       "      <th>text_en</th>\n",
       "      <th>text_pt</th>\n",
       "      <th>sentiment</th>\n",
       "      <th>sentimento</th>\n",
       "      <th>Final</th>\n",
       "    </tr>\n",
       "  </thead>\n",
       "  <tbody>\n",
       "    <tr>\n",
       "      <td>0</td>\n",
       "      <td>1</td>\n",
       "      <td>Once again Mr. Costner has dragged out a movie...</td>\n",
       "      <td>Mais uma vez, o Sr. Costner arrumou um filme p...</td>\n",
       "      <td>neg</td>\n",
       "      <td>0</td>\n",
       "      <td>Mais uma vez, o Sr. Costner arrumou um filme p...</td>\n",
       "    </tr>\n",
       "    <tr>\n",
       "      <td>1</td>\n",
       "      <td>2</td>\n",
       "      <td>This is an example of why the majority of acti...</td>\n",
       "      <td>Este é um exemplo do motivo pelo qual a maiori...</td>\n",
       "      <td>neg</td>\n",
       "      <td>0</td>\n",
       "      <td>Este e um exemplo do motivo pelo qual a maiori...</td>\n",
       "    </tr>\n",
       "    <tr>\n",
       "      <td>2</td>\n",
       "      <td>3</td>\n",
       "      <td>First of all I hate those moronic rappers, who...</td>\n",
       "      <td>Primeiro de tudo eu odeio esses raps imbecis, ...</td>\n",
       "      <td>neg</td>\n",
       "      <td>0</td>\n",
       "      <td>Primeiro de tudo eu odeio esses raps imbecis, ...</td>\n",
       "    </tr>\n",
       "    <tr>\n",
       "      <td>3</td>\n",
       "      <td>4</td>\n",
       "      <td>Not even the Beatles could write songs everyon...</td>\n",
       "      <td>Nem mesmo os Beatles puderam escrever músicas ...</td>\n",
       "      <td>neg</td>\n",
       "      <td>0</td>\n",
       "      <td>Nem mesmo os Beatles puderam escrever musicas ...</td>\n",
       "    </tr>\n",
       "    <tr>\n",
       "      <td>4</td>\n",
       "      <td>5</td>\n",
       "      <td>Brass pictures movies is not a fitting word fo...</td>\n",
       "      <td>Filmes de fotos de latão não é uma palavra apr...</td>\n",
       "      <td>neg</td>\n",
       "      <td>0</td>\n",
       "      <td>Filmes de fotos de latao nao e uma palavra apr...</td>\n",
       "    </tr>\n",
       "  </tbody>\n",
       "</table>\n",
       "</div>"
      ],
      "text/plain": [
       "   id                                            text_en  \\\n",
       "0   1  Once again Mr. Costner has dragged out a movie...   \n",
       "1   2  This is an example of why the majority of acti...   \n",
       "2   3  First of all I hate those moronic rappers, who...   \n",
       "3   4  Not even the Beatles could write songs everyon...   \n",
       "4   5  Brass pictures movies is not a fitting word fo...   \n",
       "\n",
       "                                             text_pt sentiment  sentimento  \\\n",
       "0  Mais uma vez, o Sr. Costner arrumou um filme p...       neg           0   \n",
       "1  Este é um exemplo do motivo pelo qual a maiori...       neg           0   \n",
       "2  Primeiro de tudo eu odeio esses raps imbecis, ...       neg           0   \n",
       "3  Nem mesmo os Beatles puderam escrever músicas ...       neg           0   \n",
       "4  Filmes de fotos de latão não é uma palavra apr...       neg           0   \n",
       "\n",
       "                                               Final  \n",
       "0  Mais uma vez, o Sr. Costner arrumou um filme p...  \n",
       "1  Este e um exemplo do motivo pelo qual a maiori...  \n",
       "2  Primeiro de tudo eu odeio esses raps imbecis, ...  \n",
       "3  Nem mesmo os Beatles puderam escrever musicas ...  \n",
       "4  Filmes de fotos de latao nao e uma palavra apr...  "
      ]
     },
     "execution_count": 7,
     "metadata": {},
     "output_type": "execute_result"
    }
   ],
   "source": [
    "imdb['Final'] = imdb['text_pt'].apply(unidecode.unidecode)\n",
    "imdb.head()"
   ]
  },
  {
   "cell_type": "markdown",
   "metadata": {},
   "source": [
    "###### É possível notar na coluna Final que já não existe mais acentuação no texto <br>\n",
    "\n",
    "-  Deixar o texto em Caixa Baixa (Minúsculo) "
   ]
  },
  {
   "cell_type": "code",
   "execution_count": 8,
   "metadata": {},
   "outputs": [
    {
     "data": {
      "text/html": [
       "<div>\n",
       "<style scoped>\n",
       "    .dataframe tbody tr th:only-of-type {\n",
       "        vertical-align: middle;\n",
       "    }\n",
       "\n",
       "    .dataframe tbody tr th {\n",
       "        vertical-align: top;\n",
       "    }\n",
       "\n",
       "    .dataframe thead th {\n",
       "        text-align: right;\n",
       "    }\n",
       "</style>\n",
       "<table border=\"1\" class=\"dataframe\">\n",
       "  <thead>\n",
       "    <tr style=\"text-align: right;\">\n",
       "      <th></th>\n",
       "      <th>id</th>\n",
       "      <th>text_en</th>\n",
       "      <th>text_pt</th>\n",
       "      <th>sentiment</th>\n",
       "      <th>sentimento</th>\n",
       "      <th>Final</th>\n",
       "    </tr>\n",
       "  </thead>\n",
       "  <tbody>\n",
       "    <tr>\n",
       "      <td>0</td>\n",
       "      <td>1</td>\n",
       "      <td>Once again Mr. Costner has dragged out a movie...</td>\n",
       "      <td>Mais uma vez, o Sr. Costner arrumou um filme p...</td>\n",
       "      <td>neg</td>\n",
       "      <td>0</td>\n",
       "      <td>mais uma vez, o sr. costner arrumou um filme p...</td>\n",
       "    </tr>\n",
       "    <tr>\n",
       "      <td>1</td>\n",
       "      <td>2</td>\n",
       "      <td>This is an example of why the majority of acti...</td>\n",
       "      <td>Este é um exemplo do motivo pelo qual a maiori...</td>\n",
       "      <td>neg</td>\n",
       "      <td>0</td>\n",
       "      <td>este e um exemplo do motivo pelo qual a maiori...</td>\n",
       "    </tr>\n",
       "    <tr>\n",
       "      <td>2</td>\n",
       "      <td>3</td>\n",
       "      <td>First of all I hate those moronic rappers, who...</td>\n",
       "      <td>Primeiro de tudo eu odeio esses raps imbecis, ...</td>\n",
       "      <td>neg</td>\n",
       "      <td>0</td>\n",
       "      <td>primeiro de tudo eu odeio esses raps imbecis, ...</td>\n",
       "    </tr>\n",
       "    <tr>\n",
       "      <td>3</td>\n",
       "      <td>4</td>\n",
       "      <td>Not even the Beatles could write songs everyon...</td>\n",
       "      <td>Nem mesmo os Beatles puderam escrever músicas ...</td>\n",
       "      <td>neg</td>\n",
       "      <td>0</td>\n",
       "      <td>nem mesmo os beatles puderam escrever musicas ...</td>\n",
       "    </tr>\n",
       "    <tr>\n",
       "      <td>4</td>\n",
       "      <td>5</td>\n",
       "      <td>Brass pictures movies is not a fitting word fo...</td>\n",
       "      <td>Filmes de fotos de latão não é uma palavra apr...</td>\n",
       "      <td>neg</td>\n",
       "      <td>0</td>\n",
       "      <td>filmes de fotos de latao nao e uma palavra apr...</td>\n",
       "    </tr>\n",
       "  </tbody>\n",
       "</table>\n",
       "</div>"
      ],
      "text/plain": [
       "   id                                            text_en  \\\n",
       "0   1  Once again Mr. Costner has dragged out a movie...   \n",
       "1   2  This is an example of why the majority of acti...   \n",
       "2   3  First of all I hate those moronic rappers, who...   \n",
       "3   4  Not even the Beatles could write songs everyon...   \n",
       "4   5  Brass pictures movies is not a fitting word fo...   \n",
       "\n",
       "                                             text_pt sentiment  sentimento  \\\n",
       "0  Mais uma vez, o Sr. Costner arrumou um filme p...       neg           0   \n",
       "1  Este é um exemplo do motivo pelo qual a maiori...       neg           0   \n",
       "2  Primeiro de tudo eu odeio esses raps imbecis, ...       neg           0   \n",
       "3  Nem mesmo os Beatles puderam escrever músicas ...       neg           0   \n",
       "4  Filmes de fotos de latão não é uma palavra apr...       neg           0   \n",
       "\n",
       "                                               Final  \n",
       "0  mais uma vez, o sr. costner arrumou um filme p...  \n",
       "1  este e um exemplo do motivo pelo qual a maiori...  \n",
       "2  primeiro de tudo eu odeio esses raps imbecis, ...  \n",
       "3  nem mesmo os beatles puderam escrever musicas ...  \n",
       "4  filmes de fotos de latao nao e uma palavra apr...  "
      ]
     },
     "execution_count": 8,
     "metadata": {},
     "output_type": "execute_result"
    }
   ],
   "source": [
    "imdb['Final'] = imdb['Final'].str.lower()\n",
    "imdb.head()"
   ]
  },
  {
   "cell_type": "code",
   "execution_count": 9,
   "metadata": {},
   "outputs": [
    {
     "data": {
      "text/html": [
       "<div>\n",
       "<style scoped>\n",
       "    .dataframe tbody tr th:only-of-type {\n",
       "        vertical-align: middle;\n",
       "    }\n",
       "\n",
       "    .dataframe tbody tr th {\n",
       "        vertical-align: top;\n",
       "    }\n",
       "\n",
       "    .dataframe thead th {\n",
       "        text-align: right;\n",
       "    }\n",
       "</style>\n",
       "<table border=\"1\" class=\"dataframe\">\n",
       "  <thead>\n",
       "    <tr style=\"text-align: right;\">\n",
       "      <th></th>\n",
       "      <th>id</th>\n",
       "      <th>text_en</th>\n",
       "      <th>text_pt</th>\n",
       "      <th>sentiment</th>\n",
       "      <th>sentimento</th>\n",
       "      <th>Final</th>\n",
       "    </tr>\n",
       "  </thead>\n",
       "  <tbody>\n",
       "    <tr>\n",
       "      <td>0</td>\n",
       "      <td>1</td>\n",
       "      <td>Once again Mr. Costner has dragged out a movie...</td>\n",
       "      <td>Mais uma vez, o Sr. Costner arrumou um filme p...</td>\n",
       "      <td>neg</td>\n",
       "      <td>0</td>\n",
       "      <td>mais uma vez o sr costner arrumou um filme por...</td>\n",
       "    </tr>\n",
       "    <tr>\n",
       "      <td>1</td>\n",
       "      <td>2</td>\n",
       "      <td>This is an example of why the majority of acti...</td>\n",
       "      <td>Este é um exemplo do motivo pelo qual a maiori...</td>\n",
       "      <td>neg</td>\n",
       "      <td>0</td>\n",
       "      <td>este e um exemplo do motivo pelo qual a maiori...</td>\n",
       "    </tr>\n",
       "    <tr>\n",
       "      <td>2</td>\n",
       "      <td>3</td>\n",
       "      <td>First of all I hate those moronic rappers, who...</td>\n",
       "      <td>Primeiro de tudo eu odeio esses raps imbecis, ...</td>\n",
       "      <td>neg</td>\n",
       "      <td>0</td>\n",
       "      <td>primeiro de tudo eu odeio esses raps imbecis q...</td>\n",
       "    </tr>\n",
       "    <tr>\n",
       "      <td>3</td>\n",
       "      <td>4</td>\n",
       "      <td>Not even the Beatles could write songs everyon...</td>\n",
       "      <td>Nem mesmo os Beatles puderam escrever músicas ...</td>\n",
       "      <td>neg</td>\n",
       "      <td>0</td>\n",
       "      <td>nem mesmo os beatles puderam escrever musicas ...</td>\n",
       "    </tr>\n",
       "    <tr>\n",
       "      <td>4</td>\n",
       "      <td>5</td>\n",
       "      <td>Brass pictures movies is not a fitting word fo...</td>\n",
       "      <td>Filmes de fotos de latão não é uma palavra apr...</td>\n",
       "      <td>neg</td>\n",
       "      <td>0</td>\n",
       "      <td>filmes de fotos de latao nao e uma palavra apr...</td>\n",
       "    </tr>\n",
       "    <tr>\n",
       "      <td>5</td>\n",
       "      <td>6</td>\n",
       "      <td>A funny thing happened to me while watching \"M...</td>\n",
       "      <td>Uma coisa engraçada aconteceu comigo enquanto ...</td>\n",
       "      <td>neg</td>\n",
       "      <td>0</td>\n",
       "      <td>uma coisa engracada aconteceu comigo enquanto ...</td>\n",
       "    </tr>\n",
       "    <tr>\n",
       "      <td>6</td>\n",
       "      <td>7</td>\n",
       "      <td>This German horror film has to be one of the w...</td>\n",
       "      <td>Este filme de terror alemão tem que ser um dos...</td>\n",
       "      <td>neg</td>\n",
       "      <td>0</td>\n",
       "      <td>este filme de terror alemao tem que ser um dos...</td>\n",
       "    </tr>\n",
       "    <tr>\n",
       "      <td>7</td>\n",
       "      <td>8</td>\n",
       "      <td>Being a long-time fan of Japanese film, I expe...</td>\n",
       "      <td>Sendo um fã de longa data do cinema japonês, e...</td>\n",
       "      <td>neg</td>\n",
       "      <td>0</td>\n",
       "      <td>sendo um fa de longa data do cinema japones eu...</td>\n",
       "    </tr>\n",
       "    <tr>\n",
       "      <td>8</td>\n",
       "      <td>9</td>\n",
       "      <td>\"Tokyo Eyes\" tells of a 17 year old Japanese g...</td>\n",
       "      <td>\"Tokyo Eyes\" fala de uma menina japonesa de 17...</td>\n",
       "      <td>neg</td>\n",
       "      <td>0</td>\n",
       "      <td>tokyo eyes fala de uma menina japonesa de  ano...</td>\n",
       "    </tr>\n",
       "    <tr>\n",
       "      <td>9</td>\n",
       "      <td>10</td>\n",
       "      <td>Wealthy horse ranchers in Buenos Aires have a ...</td>\n",
       "      <td>Fazendeiros ricos em Buenos Aires têm uma long...</td>\n",
       "      <td>neg</td>\n",
       "      <td>0</td>\n",
       "      <td>fazendeiros ricos em buenos aires tem uma long...</td>\n",
       "    </tr>\n",
       "  </tbody>\n",
       "</table>\n",
       "</div>"
      ],
      "text/plain": [
       "   id                                            text_en  \\\n",
       "0   1  Once again Mr. Costner has dragged out a movie...   \n",
       "1   2  This is an example of why the majority of acti...   \n",
       "2   3  First of all I hate those moronic rappers, who...   \n",
       "3   4  Not even the Beatles could write songs everyon...   \n",
       "4   5  Brass pictures movies is not a fitting word fo...   \n",
       "5   6  A funny thing happened to me while watching \"M...   \n",
       "6   7  This German horror film has to be one of the w...   \n",
       "7   8  Being a long-time fan of Japanese film, I expe...   \n",
       "8   9  \"Tokyo Eyes\" tells of a 17 year old Japanese g...   \n",
       "9  10  Wealthy horse ranchers in Buenos Aires have a ...   \n",
       "\n",
       "                                             text_pt sentiment  sentimento  \\\n",
       "0  Mais uma vez, o Sr. Costner arrumou um filme p...       neg           0   \n",
       "1  Este é um exemplo do motivo pelo qual a maiori...       neg           0   \n",
       "2  Primeiro de tudo eu odeio esses raps imbecis, ...       neg           0   \n",
       "3  Nem mesmo os Beatles puderam escrever músicas ...       neg           0   \n",
       "4  Filmes de fotos de latão não é uma palavra apr...       neg           0   \n",
       "5  Uma coisa engraçada aconteceu comigo enquanto ...       neg           0   \n",
       "6  Este filme de terror alemão tem que ser um dos...       neg           0   \n",
       "7  Sendo um fã de longa data do cinema japonês, e...       neg           0   \n",
       "8  \"Tokyo Eyes\" fala de uma menina japonesa de 17...       neg           0   \n",
       "9  Fazendeiros ricos em Buenos Aires têm uma long...       neg           0   \n",
       "\n",
       "                                               Final  \n",
       "0  mais uma vez o sr costner arrumou um filme por...  \n",
       "1  este e um exemplo do motivo pelo qual a maiori...  \n",
       "2  primeiro de tudo eu odeio esses raps imbecis q...  \n",
       "3  nem mesmo os beatles puderam escrever musicas ...  \n",
       "4  filmes de fotos de latao nao e uma palavra apr...  \n",
       "5  uma coisa engracada aconteceu comigo enquanto ...  \n",
       "6  este filme de terror alemao tem que ser um dos...  \n",
       "7  sendo um fa de longa data do cinema japones eu...  \n",
       "8  tokyo eyes fala de uma menina japonesa de  ano...  \n",
       "9  fazendeiros ricos em buenos aires tem uma long...  "
      ]
     },
     "execution_count": 9,
     "metadata": {},
     "output_type": "execute_result"
    }
   ],
   "source": [
    "# Removendo tudo que não for alfanumérico\n",
    "imdb['Final'] = imdb['Final'].apply(\n",
    "    lambda s: re.sub(r'[^a-zA-Z\\s]', '', s)\n",
    ")\n",
    "imdb.head(10)"
   ]
  },
  {
   "cell_type": "markdown",
   "metadata": {},
   "source": [
    "###### Agora a coluna Final já não possui nenhum caractere em maiúsculo <br>\n",
    "\n",
    "-  Retirando stop words <br> Stop words são palavras muito comuns na língua e que não carregam sentido por si só: preposições, artigos, pronomes, pontuações etc. <br> A biblioteca **nltk** possui uma lista de stop words em português "
   ]
  },
  {
   "cell_type": "code",
   "execution_count": 10,
   "metadata": {},
   "outputs": [],
   "source": [
    "stopWords = list()\n",
    "\n",
    "# retirando acentuação das stop words da nltk\n",
    "stopWordsNLTK = nltk.corpus.stopwords.words(\"portuguese\")\n",
    "\n",
    "for i in stopWordsNLTK:\n",
    "    stopWords.append(unidecode.unidecode(i))"
   ]
  },
  {
   "cell_type": "markdown",
   "metadata": {},
   "source": [
    "-  Processo de Tokenização:<br> iremos usar a função **tokenize** da **nltk** para separar as palavras e compará-las uma a uma com as nossas stop words.<br> o código abaixo, usamos **WordPunctTokenizer**, que separa as palavras e as pontuações do texto para serem comparadas.<br>\n",
    "fonte: https://kite.com/python/docs/nltk.WordPunctTokenizer"
   ]
  },
  {
   "cell_type": "code",
   "execution_count": 11,
   "metadata": {},
   "outputs": [],
   "source": [
    "token = tokenize.WordPunctTokenizer()"
   ]
  },
  {
   "cell_type": "code",
   "execution_count": 12,
   "metadata": {},
   "outputs": [
    {
     "data": {
      "text/html": [
       "<div>\n",
       "<style scoped>\n",
       "    .dataframe tbody tr th:only-of-type {\n",
       "        vertical-align: middle;\n",
       "    }\n",
       "\n",
       "    .dataframe tbody tr th {\n",
       "        vertical-align: top;\n",
       "    }\n",
       "\n",
       "    .dataframe thead th {\n",
       "        text-align: right;\n",
       "    }\n",
       "</style>\n",
       "<table border=\"1\" class=\"dataframe\">\n",
       "  <thead>\n",
       "    <tr style=\"text-align: right;\">\n",
       "      <th></th>\n",
       "      <th>id</th>\n",
       "      <th>text_en</th>\n",
       "      <th>text_pt</th>\n",
       "      <th>sentiment</th>\n",
       "      <th>sentimento</th>\n",
       "      <th>Final</th>\n",
       "    </tr>\n",
       "  </thead>\n",
       "  <tbody>\n",
       "    <tr>\n",
       "      <td>0</td>\n",
       "      <td>1</td>\n",
       "      <td>Once again Mr. Costner has dragged out a movie...</td>\n",
       "      <td>Mais uma vez, o Sr. Costner arrumou um filme p...</td>\n",
       "      <td>neg</td>\n",
       "      <td>0</td>\n",
       "      <td>vez sr costner arrumou filme tempo necessario ...</td>\n",
       "    </tr>\n",
       "    <tr>\n",
       "      <td>1</td>\n",
       "      <td>2</td>\n",
       "      <td>This is an example of why the majority of acti...</td>\n",
       "      <td>Este é um exemplo do motivo pelo qual a maiori...</td>\n",
       "      <td>neg</td>\n",
       "      <td>0</td>\n",
       "      <td>exemplo motivo maioria filmes acao mesmos gene...</td>\n",
       "    </tr>\n",
       "    <tr>\n",
       "      <td>2</td>\n",
       "      <td>3</td>\n",
       "      <td>First of all I hate those moronic rappers, who...</td>\n",
       "      <td>Primeiro de tudo eu odeio esses raps imbecis, ...</td>\n",
       "      <td>neg</td>\n",
       "      <td>0</td>\n",
       "      <td>primeiro tudo odeio raps imbecis poderiam agir...</td>\n",
       "    </tr>\n",
       "    <tr>\n",
       "      <td>3</td>\n",
       "      <td>4</td>\n",
       "      <td>Not even the Beatles could write songs everyon...</td>\n",
       "      <td>Nem mesmo os Beatles puderam escrever músicas ...</td>\n",
       "      <td>neg</td>\n",
       "      <td>0</td>\n",
       "      <td>beatles puderam escrever musicas todos gostass...</td>\n",
       "    </tr>\n",
       "    <tr>\n",
       "      <td>4</td>\n",
       "      <td>5</td>\n",
       "      <td>Brass pictures movies is not a fitting word fo...</td>\n",
       "      <td>Filmes de fotos de latão não é uma palavra apr...</td>\n",
       "      <td>neg</td>\n",
       "      <td>0</td>\n",
       "      <td>filmes fotos latao palavra apropriada verdade ...</td>\n",
       "    </tr>\n",
       "    <tr>\n",
       "      <td>5</td>\n",
       "      <td>6</td>\n",
       "      <td>A funny thing happened to me while watching \"M...</td>\n",
       "      <td>Uma coisa engraçada aconteceu comigo enquanto ...</td>\n",
       "      <td>neg</td>\n",
       "      <td>0</td>\n",
       "      <td>coisa engracada aconteceu comigo enquanto assi...</td>\n",
       "    </tr>\n",
       "    <tr>\n",
       "      <td>6</td>\n",
       "      <td>7</td>\n",
       "      <td>This German horror film has to be one of the w...</td>\n",
       "      <td>Este filme de terror alemão tem que ser um dos...</td>\n",
       "      <td>neg</td>\n",
       "      <td>0</td>\n",
       "      <td>filme terror alemao ser estranhos vi ciente qu...</td>\n",
       "    </tr>\n",
       "    <tr>\n",
       "      <td>7</td>\n",
       "      <td>8</td>\n",
       "      <td>Being a long-time fan of Japanese film, I expe...</td>\n",
       "      <td>Sendo um fã de longa data do cinema japonês, e...</td>\n",
       "      <td>neg</td>\n",
       "      <td>0</td>\n",
       "      <td>sendo fa longa data cinema japones esperava re...</td>\n",
       "    </tr>\n",
       "    <tr>\n",
       "      <td>8</td>\n",
       "      <td>9</td>\n",
       "      <td>\"Tokyo Eyes\" tells of a 17 year old Japanese g...</td>\n",
       "      <td>\"Tokyo Eyes\" fala de uma menina japonesa de 17...</td>\n",
       "      <td>neg</td>\n",
       "      <td>0</td>\n",
       "      <td>tokyo eyes fala menina japonesa anos cai homem...</td>\n",
       "    </tr>\n",
       "    <tr>\n",
       "      <td>9</td>\n",
       "      <td>10</td>\n",
       "      <td>Wealthy horse ranchers in Buenos Aires have a ...</td>\n",
       "      <td>Fazendeiros ricos em Buenos Aires têm uma long...</td>\n",
       "      <td>neg</td>\n",
       "      <td>0</td>\n",
       "      <td>fazendeiros ricos buenos aires longa politica ...</td>\n",
       "    </tr>\n",
       "  </tbody>\n",
       "</table>\n",
       "</div>"
      ],
      "text/plain": [
       "   id                                            text_en  \\\n",
       "0   1  Once again Mr. Costner has dragged out a movie...   \n",
       "1   2  This is an example of why the majority of acti...   \n",
       "2   3  First of all I hate those moronic rappers, who...   \n",
       "3   4  Not even the Beatles could write songs everyon...   \n",
       "4   5  Brass pictures movies is not a fitting word fo...   \n",
       "5   6  A funny thing happened to me while watching \"M...   \n",
       "6   7  This German horror film has to be one of the w...   \n",
       "7   8  Being a long-time fan of Japanese film, I expe...   \n",
       "8   9  \"Tokyo Eyes\" tells of a 17 year old Japanese g...   \n",
       "9  10  Wealthy horse ranchers in Buenos Aires have a ...   \n",
       "\n",
       "                                             text_pt sentiment  sentimento  \\\n",
       "0  Mais uma vez, o Sr. Costner arrumou um filme p...       neg           0   \n",
       "1  Este é um exemplo do motivo pelo qual a maiori...       neg           0   \n",
       "2  Primeiro de tudo eu odeio esses raps imbecis, ...       neg           0   \n",
       "3  Nem mesmo os Beatles puderam escrever músicas ...       neg           0   \n",
       "4  Filmes de fotos de latão não é uma palavra apr...       neg           0   \n",
       "5  Uma coisa engraçada aconteceu comigo enquanto ...       neg           0   \n",
       "6  Este filme de terror alemão tem que ser um dos...       neg           0   \n",
       "7  Sendo um fã de longa data do cinema japonês, e...       neg           0   \n",
       "8  \"Tokyo Eyes\" fala de uma menina japonesa de 17...       neg           0   \n",
       "9  Fazendeiros ricos em Buenos Aires têm uma long...       neg           0   \n",
       "\n",
       "                                               Final  \n",
       "0  vez sr costner arrumou filme tempo necessario ...  \n",
       "1  exemplo motivo maioria filmes acao mesmos gene...  \n",
       "2  primeiro tudo odeio raps imbecis poderiam agir...  \n",
       "3  beatles puderam escrever musicas todos gostass...  \n",
       "4  filmes fotos latao palavra apropriada verdade ...  \n",
       "5  coisa engracada aconteceu comigo enquanto assi...  \n",
       "6  filme terror alemao ser estranhos vi ciente qu...  \n",
       "7  sendo fa longa data cinema japones esperava re...  \n",
       "8  tokyo eyes fala menina japonesa anos cai homem...  \n",
       "9  fazendeiros ricos buenos aires longa politica ...  "
      ]
     },
     "execution_count": 12,
     "metadata": {},
     "output_type": "execute_result"
    }
   ],
   "source": [
    "imdb['Final'] = imdb['Final'].apply(token.tokenize).apply(\n",
    "    lambda x: [i for i in x if i not in stopWords]\n",
    ").apply(' '.join)\n",
    "imdb.head(10)"
   ]
  },
  {
   "cell_type": "markdown",
   "metadata": {},
   "source": [
    "###### Observa-se que as StopWords foram removidas da Coluna Final <br>\n",
    "\n",
    "- Analisando os termos mais frequentes por meio de Word Cloud"
   ]
  },
  {
   "cell_type": "code",
   "execution_count": 13,
   "metadata": {},
   "outputs": [
    {
     "data": {
      "image/png": "[encoded data removed]",
      "text/plain": [
       "<Figure size 864x864 with 1 Axes>"
      ]
     },
     "metadata": {
      "needs_background": "light"
     },
     "output_type": "display_data"
    }
   ],
   "source": [
    "def show_wordcloud(data, title = None):\n",
    "    wordcloud = WordCloud(\n",
    "        background_color='white',\n",
    "        max_words=200,\n",
    "        max_font_size=40, \n",
    "        scale=3,\n",
    "        random_state=70\n",
    "    ).generate(str(data))\n",
    "\n",
    "    fig = plt.figure(1, figsize=(12, 12))\n",
    "    plt.axis('off')\n",
    "    if title: \n",
    "        fig.suptitle(title, fontsize=20)\n",
    "        fig.subplots_adjust(top=2.3)\n",
    "\n",
    "    plt.imshow(wordcloud)\n",
    "    plt.show()\n",
    "\n",
    "show_wordcloud(imdb['Final'])"
   ]
  },
  {
   "cell_type": "markdown",
   "metadata": {},
   "source": [
    "#####  Extrairemos os Radicais, utilizando a técnica de *Stemmer*"
   ]
  },
  {
   "cell_type": "code",
   "execution_count": 14,
   "metadata": {},
   "outputs": [],
   "source": [
    "#carraga o modelo para Aplicação de Stemmer\n",
    "stemmer = nltk.RSLPStemmer()\n",
    "\n",
    "imdb['Final'] = imdb['Final'].apply(token.tokenize).apply(\n",
    "    lambda x: [stemmer.stem(i) for i in x]\n",
    ").apply(' '.join)"
   ]
  },
  {
   "cell_type": "code",
   "execution_count": 15,
   "metadata": {},
   "outputs": [
    {
     "data": {
      "text/html": [
       "<div>\n",
       "<style scoped>\n",
       "    .dataframe tbody tr th:only-of-type {\n",
       "        vertical-align: middle;\n",
       "    }\n",
       "\n",
       "    .dataframe tbody tr th {\n",
       "        vertical-align: top;\n",
       "    }\n",
       "\n",
       "    .dataframe thead th {\n",
       "        text-align: right;\n",
       "    }\n",
       "</style>\n",
       "<table border=\"1\" class=\"dataframe\">\n",
       "  <thead>\n",
       "    <tr style=\"text-align: right;\">\n",
       "      <th></th>\n",
       "      <th>id</th>\n",
       "      <th>text_en</th>\n",
       "      <th>text_pt</th>\n",
       "      <th>sentiment</th>\n",
       "      <th>sentimento</th>\n",
       "      <th>Final</th>\n",
       "    </tr>\n",
       "  </thead>\n",
       "  <tbody>\n",
       "    <tr>\n",
       "      <td>0</td>\n",
       "      <td>1</td>\n",
       "      <td>Once again Mr. Costner has dragged out a movie...</td>\n",
       "      <td>Mais uma vez, o Sr. Costner arrumou um filme p...</td>\n",
       "      <td>neg</td>\n",
       "      <td>0</td>\n",
       "      <td>vez sr costn arrum film temp necessari alem te...</td>\n",
       "    </tr>\n",
       "    <tr>\n",
       "      <td>1</td>\n",
       "      <td>2</td>\n",
       "      <td>This is an example of why the majority of acti...</td>\n",
       "      <td>Este é um exemplo do motivo pelo qual a maiori...</td>\n",
       "      <td>neg</td>\n",
       "      <td>0</td>\n",
       "      <td>exempl motiv maior film aca mesm gener chat na...</td>\n",
       "    </tr>\n",
       "    <tr>\n",
       "      <td>2</td>\n",
       "      <td>3</td>\n",
       "      <td>First of all I hate those moronic rappers, who...</td>\n",
       "      <td>Primeiro de tudo eu odeio esses raps imbecis, ...</td>\n",
       "      <td>neg</td>\n",
       "      <td>0</td>\n",
       "      <td>prim tud odei rap imbecil pod agir arm pressio...</td>\n",
       "    </tr>\n",
       "    <tr>\n",
       "      <td>3</td>\n",
       "      <td>4</td>\n",
       "      <td>Not even the Beatles could write songs everyon...</td>\n",
       "      <td>Nem mesmo os Beatles puderam escrever músicas ...</td>\n",
       "      <td>neg</td>\n",
       "      <td>0</td>\n",
       "      <td>beatl pud escrev music tod gost emb walt hill ...</td>\n",
       "    </tr>\n",
       "    <tr>\n",
       "      <td>4</td>\n",
       "      <td>5</td>\n",
       "      <td>Brass pictures movies is not a fitting word fo...</td>\n",
       "      <td>Filmes de fotos de latão não é uma palavra apr...</td>\n",
       "      <td>neg</td>\n",
       "      <td>0</td>\n",
       "      <td>film fot lata palavr apropri verdad tant ous q...</td>\n",
       "    </tr>\n",
       "  </tbody>\n",
       "</table>\n",
       "</div>"
      ],
      "text/plain": [
       "   id                                            text_en  \\\n",
       "0   1  Once again Mr. Costner has dragged out a movie...   \n",
       "1   2  This is an example of why the majority of acti...   \n",
       "2   3  First of all I hate those moronic rappers, who...   \n",
       "3   4  Not even the Beatles could write songs everyon...   \n",
       "4   5  Brass pictures movies is not a fitting word fo...   \n",
       "\n",
       "                                             text_pt sentiment  sentimento  \\\n",
       "0  Mais uma vez, o Sr. Costner arrumou um filme p...       neg           0   \n",
       "1  Este é um exemplo do motivo pelo qual a maiori...       neg           0   \n",
       "2  Primeiro de tudo eu odeio esses raps imbecis, ...       neg           0   \n",
       "3  Nem mesmo os Beatles puderam escrever músicas ...       neg           0   \n",
       "4  Filmes de fotos de latão não é uma palavra apr...       neg           0   \n",
       "\n",
       "                                               Final  \n",
       "0  vez sr costn arrum film temp necessari alem te...  \n",
       "1  exempl motiv maior film aca mesm gener chat na...  \n",
       "2  prim tud odei rap imbecil pod agir arm pressio...  \n",
       "3  beatl pud escrev music tod gost emb walt hill ...  \n",
       "4  film fot lata palavr apropri verdad tant ous q...  "
      ]
     },
     "execution_count": 15,
     "metadata": {},
     "output_type": "execute_result"
    }
   ],
   "source": [
    "imdb.head()"
   ]
  },
  {
   "cell_type": "code",
   "execution_count": 16,
   "metadata": {},
   "outputs": [
    {
     "data": {
      "text/plain": [
       "'cois engrac acontec comig enquant assist mosquit lad hero surdomud dire total incapaz faz entend faz faz manequim mutil er desculpem cadav atrav imag outr lad versa ingl menos mal dubl enta encontr desej tant menos dialog temp film estup car acess tod cemiteri necroteri cidad ond estari explor ano cen lesb gratuit mencion aspect roman oh doc'"
      ]
     },
     "execution_count": 16,
     "metadata": {},
     "output_type": "execute_result"
    }
   ],
   "source": [
    "#Exibindo uma frase \"normalizada\"\n",
    "imdb['Final'][5]"
   ]
  },
  {
   "cell_type": "markdown",
   "metadata": {},
   "source": [
    "###### o radical foi removido com sucesso <br> o Processo tornou o texto confuso de interpretar, entretanto é o que a máquina precisa para interpretar o texto sem ambiguidade <br> <br>\n",
    "\n",
    "#### **4 - Treino e Teste**\n",
    "\n",
    "-  1 TF-IDF e N-grams <br><br>\n",
    "TF-IDF é um algoritmo que tem como objetivo indicar a importância de uma palavra numa coleção de textos. Palavras que possuem uma grande ocorrência em todos os casos e, por isso, não servem como uma boa forma de diferenciação, são classificadas como de menor importância para o algoritmo.<br>\n",
    "Outra técnica usada para melhorar a análise é a de n-grams, que funciona como uma forma de criar contexto entre as palavras agrupando-as em sequência. No código abaixo, o ngram_range=(1, 2) significa que o modelo vai avaliar Bigramas\n",
    "\n",
    "Eu encurtei o processo para não deixar o Notebook longo, foi testado com unigrama e trigrama também que não tiveram uma acurácia maior que a que tive logo segui com bigrama\n"
   ]
  },
  {
   "cell_type": "code",
   "execution_count": 17,
   "metadata": {},
   "outputs": [],
   "source": [
    "Vetor = TfidfVectorizer(ngram_range=(1,2), use_idf=True, norm='l2')\n",
    "Tf_Idf = Vetor.fit_transform(imdb.Final)"
   ]
  },
  {
   "cell_type": "markdown",
   "metadata": {},
   "source": [
    "-  2 Separando o Dataframe em treino e teste <br>\n",
    "Antes de iniciar a etapa de aplicação direta dos algoritimos de ML vamos separar os Dados de Treino e Teste em 70% Treino e 30% Teste"
   ]
  },
  {
   "cell_type": "code",
   "execution_count": 18,
   "metadata": {},
   "outputs": [],
   "source": [
    "X_Treino, X_Teste, Y_Treino, Y_Teste = train_test_split(Tf_Idf, imdb['sentimento'], test_size=0.2, random_state = 70)"
   ]
  },
  {
   "cell_type": "markdown",
   "metadata": {},
   "source": [
    "##### **5 - Aplicação de Modelos e teste de parametros** <br>\n",
    "\n",
    "Aplicação dos Algorítimos de ML para ver qual tem a melhor Performance\n",
    "\n",
    "\n",
    "-  Naive Bayes"
   ]
  },
  {
   "cell_type": "code",
   "execution_count": 20,
   "metadata": {},
   "outputs": [
    {
     "name": "stdout",
     "output_type": "stream",
     "text": [
      "[[4520  429]\n",
      " [ 677 4266]]\n",
      "              precision    recall  f1-score   support\n",
      "\n",
      "           0       0.87      0.91      0.89      4949\n",
      "           1       0.91      0.86      0.89      4943\n",
      "\n",
      "    accuracy                           0.89      9892\n",
      "   macro avg       0.89      0.89      0.89      9892\n",
      "weighted avg       0.89      0.89      0.89      9892\n",
      "\n",
      "AUC:  0.8881772309398879\n",
      "Acurácia:  0.8881924787707238\n"
     ]
    }
   ],
   "source": [
    "# Inicializa o modelo e treina\n",
    "modelo = MultinomialNB()\n",
    "modelo.fit(X_Treino, Y_Treino)\n",
    "\n",
    "# Fazer previsões\n",
    "preds = modelo.predict(X_Teste)\n",
    "\n",
    "print(confusion_matrix(Y_Teste,preds))\n",
    "print(classification_report(Y_Teste,preds))\n",
    "print(\"AUC: \", roc_auc_score(Y_Teste, preds))\n",
    "print(\"Acurácia: \", accuracy_score(Y_Teste, preds))"
   ]
  },
  {
   "cell_type": "markdown",
   "metadata": {},
   "source": [
    "##### Usando a aplicação direta de Naive Bayes já temos um resultado superior ao apresentado em sala de aula posso parar por aqui mais vamos dar aquela perseverada e tentar bater os 90% da meta\n",
    "\n",
    "-  Regressão Logística"
   ]
  },
  {
   "cell_type": "code",
   "execution_count": 21,
   "metadata": {},
   "outputs": [
    {
     "name": "stdout",
     "output_type": "stream",
     "text": [
      "[[4344  605]\n",
      " [ 449 4494]]\n",
      "              precision    recall  f1-score   support\n",
      "\n",
      "           0       0.91      0.88      0.89      4949\n",
      "           1       0.88      0.91      0.90      4943\n",
      "\n",
      "    accuracy                           0.89      9892\n",
      "   macro avg       0.89      0.89      0.89      9892\n",
      "weighted avg       0.89      0.89      0.89      9892\n",
      "\n",
      "AUC:  0.8934587782228826\n",
      "Acurácia:  0.893449251920744\n"
     ]
    }
   ],
   "source": [
    "# treino\n",
    "modelo = LogisticRegression(solver='lbfgs', random_state = 70)\n",
    "modelo.fit(X_Treino, Y_Treino)\n",
    "\n",
    "# Fazer previsões\n",
    "preds = modelo.predict(X_Teste)\n",
    "\n",
    "print(confusion_matrix(Y_Teste,preds))\n",
    "print(classification_report(Y_Teste,preds))\n",
    "print(\"AUC: \", roc_auc_score(Y_Teste, preds))\n",
    "print(\"Acurácia: \", accuracy_score(Y_Teste, preds))"
   ]
  },
  {
   "cell_type": "markdown",
   "metadata": {},
   "source": [
    "##### Usando a regressão Logística do próprio **sklearn** tivemos um aumento na assertividade do modelo em 1% onde acreditamos que o caminho é por ai <br> fizmos testes mudando de bigrama para unigrama e trigrama e a acurácia cai. <br>  \n"
   ]
  },
  {
   "cell_type": "code",
   "execution_count": 24,
   "metadata": {},
   "outputs": [
    {
     "name": "stdout",
     "output_type": "stream",
     "text": [
      "[[4028  921]\n",
      " [ 660 4283]]\n",
      "              precision    recall  f1-score   support\n",
      "\n",
      "           0       0.86      0.81      0.84      4949\n",
      "           1       0.82      0.87      0.84      4943\n",
      "\n",
      "    accuracy                           0.84      9892\n",
      "   macro avg       0.84      0.84      0.84      9892\n",
      "weighted avg       0.84      0.84      0.84      9892\n",
      "\n",
      "AUC:  0.8401898229020779\n",
      "Acurácia:  0.8401738778811161\n"
     ]
    }
   ],
   "source": [
    "modelo = RandomForestClassifier(n_estimators=200, random_state=70, max_depth = 15)\n",
    "modelo.fit(X_Treino, Y_Treino)\n",
    "\n",
    "preds = modelo.predict(X_Teste)\n",
    "\n",
    "print(confusion_matrix(Y_Teste,preds))\n",
    "print(classification_report(Y_Teste,preds))\n",
    "print(\"AUC: \", roc_auc_score(Y_Teste, preds))\n",
    "print(\"Acurácia: \", accuracy_score(Y_Teste, preds))"
   ]
  },
  {
   "cell_type": "code",
   "execution_count": 22,
   "metadata": {},
   "outputs": [
    {
     "name": "stdout",
     "output_type": "stream",
     "text": [
      "[[4180  769]\n",
      " [ 475 4468]]\n",
      "              precision    recall  f1-score   support\n",
      "\n",
      "           0       0.90      0.84      0.87      4949\n",
      "           1       0.85      0.90      0.88      4943\n",
      "\n",
      "    accuracy                           0.87      9892\n",
      "   macro avg       0.88      0.87      0.87      9892\n",
      "weighted avg       0.88      0.87      0.87      9892\n",
      "\n",
      "0.8742597925912894\n",
      "Acurácia:  0.8742418115649009\n"
     ]
    }
   ],
   "source": [
    "modelo = SGDClassifier(alpha=0.0001, average=False, tol=0,\n",
    "       early_stopping=False, epsilon=0.1, eta0=0.0, fit_intercept=True, max_iter = 1000,\n",
    "       l1_ratio=0.15, learning_rate='optimal', loss='log', n_iter_no_change=5, n_jobs=-1, penalty='l2',\n",
    "       power_t=0.5, shuffle=True,\n",
    "       validation_fraction=0.1, verbose=0, warm_start=False)\n",
    "\n",
    "modelo.fit(X_Treino, Y_Treino)\n",
    "\n",
    "preds = modelo.predict(X_Teste)\n",
    "\n",
    "print(confusion_matrix(Y_Teste,preds))\n",
    "print(classification_report(Y_Teste,preds))\n",
    "print(roc_auc_score(Y_Teste, preds))\n",
    "print(\"Acurácia: \", accuracy_score(Y_Teste, preds))"
   ]
  },
  {
   "cell_type": "code",
   "execution_count": null,
   "metadata": {},
   "outputs": [],
   "source": [
    "modelo = svm.SVC(C=1.0, kernel='linear', degree=3, gamma='auto')\n",
    "\n",
    "modelo.fit(X_Treino, Y_Treino)\n",
    "\n",
    "preds = modelo.predict(X_Teste)\n",
    "\n",
    "print(confusion_matrix(Y_Teste,preds))\n",
    "print(classification_report(Y_Teste,preds))\n",
    "print(roc_auc_score(Y_Teste, preds))\n",
    "print(\"Acurácia: \", accuracy_score(Y_Teste, preds))"
   ]
  }
 ],
 "metadata": {
  "kernelspec": {
   "display_name": "Python 3",
   "language": "python",
   "name": "python3"
  },
  "language_info": {
   "codemirror_mode": {
    "name": "ipython",
    "version": 3
   },
   "file_extension": ".py",
   "mimetype": "text/x-python",
   "name": "python",
   "nbconvert_exporter": "python",
   "pygments_lexer": "ipython3",
   "version": "3.7.3"
  }
 },
 "nbformat": 4,
 "nbformat_minor": 4
}
