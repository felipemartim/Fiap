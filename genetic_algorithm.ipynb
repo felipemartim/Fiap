{
  "nbformat": 4,
  "nbformat_minor": 0,
  "metadata": {
    "colab": {
      "name": "Untitled1.ipynb",
      "version": "0.3.2",
      "provenance": [],
      "include_colab_link": true
    },
    "kernelspec": {
      "name": "python3",
      "display_name": "Python 3"
    }
  },
  "cells": [
    {
      "cell_type": "markdown",
      "metadata": {
        "id": "view-in-github",
        "colab_type": "text"
      },
      "source": [
        "<a href=\"https://colab.research.google.com/github/felipemartim/Fiap/blob/master/genetic_algorithm.ipynb\" target=\"_parent\"><img src=\"https://colab.research.google.com/assets/colab-badge.svg\" alt=\"Open In Colab\"/></a>"
      ]
    },
    {
      "cell_type": "markdown",
      "metadata": {
        "id": "fy5x6tOyCDUl",
        "colab_type": "text"
      },
      "source": [
        "# Aula 1 - Modelos de IA & ML\n"
      ]
    },
    {
      "cell_type": "markdown",
      "metadata": {
        "id": "T16Sne28CPm0",
        "colab_type": "text"
      },
      "source": [
        "## Exercício de fixação - Algoritmo Genético para construção de frase alvo"
      ]
    },
    {
      "cell_type": "code",
      "metadata": {
        "id": "Rrsy2WeBBxru",
        "colab_type": "code",
        "colab": {}
      },
      "source": [
        "geneSet = \" abcdefghijklmnopqrstuvwxyzABCDEFGHIJKLMNOPQRSTUVWXYZ!.\"\n",
        "target = \"hello world!\""
      ],
      "execution_count": 0,
      "outputs": []
    },
    {
      "cell_type": "code",
      "metadata": {
        "id": "tbYa-W9WCNNi",
        "colab_type": "code",
        "colab": {}
      },
      "source": [
        "import random\n",
        "\n",
        "def generate_parent(length):\n",
        "  genes = []\n",
        "  while len(genes) < length:\n",
        "    sampleSize = min(length - len(genes), len(geneSet))\n",
        "    genes.extend(random.sample(geneSet, sampleSize))\n",
        "  return ''.join(genes)"
      ],
      "execution_count": 0,
      "outputs": []
    },
    {
      "cell_type": "code",
      "metadata": {
        "id": "L6uQ_4YrDntB",
        "colab_type": "code",
        "colab": {}
      },
      "source": [
        "def get_fitness(guess):\n",
        "  return sum(1 for expected, actual in zip(target, guess) if expected == actual)"
      ],
      "execution_count": 0,
      "outputs": []
    },
    {
      "cell_type": "code",
      "metadata": {
        "id": "xxt49fmCEvp4",
        "colab_type": "code",
        "colab": {}
      },
      "source": [
        "def mutate(parent):\n",
        "  index = random.randrange(0, len(parent))\n",
        "  childGene = list(parent)\n",
        "  newGene, alternate = random.sample(geneSet, 2)\n",
        "  childGene[index] = alternate if newGene == childGene[index] else newGene\n",
        "  return ''.join(childGene)"
      ],
      "execution_count": 0,
      "outputs": []
    },
    {
      "cell_type": "code",
      "metadata": {
        "id": "I8xCgZy0GNVW",
        "colab_type": "code",
        "colab": {}
      },
      "source": [
        "import datetime\n",
        "\n",
        "def display(guess):\n",
        "  timeDiff = datetime.datetime.now() - startTime\n",
        "  fitness = get_fitness(guess)\n",
        "  print(\"{0}\\t{1}\\t{2}\".format(guess, fitness, str(timeDiff)))"
      ],
      "execution_count": 0,
      "outputs": []
    },
    {
      "cell_type": "code",
      "metadata": {
        "id": "grj3XUeNHg6k",
        "colab_type": "code",
        "colab": {
          "base_uri": "https://localhost:8080/",
          "height": 34
        },
        "outputId": "2609c415-22fa-4e1b-d449-abb2284a3e22"
      },
      "source": [
        "random.seed()\n",
        "startTime = datetime.datetime.now()\n",
        "bestParent = generate_parent(len(target))\n",
        "bestFitness = get_fitness(bestParent)\n",
        "display(bestParent)"
      ],
      "execution_count": 15,
      "outputs": [
        {
          "output_type": "stream",
          "text": [
            "kxtsIBmHg.DW\t0\t0:00:00.000678\n"
          ],
          "name": "stdout"
        }
      ]
    },
    {
      "cell_type": "code",
      "metadata": {
        "id": "Y91hSPaBH-0s",
        "colab_type": "code",
        "colab": {
          "base_uri": "https://localhost:8080/",
          "height": 238
        },
        "outputId": "0a77e7c6-51df-4cb9-cc94-6e831e78311a"
      },
      "source": [
        "i = 0\n",
        "while True:\n",
        "  i = i + 1\n",
        "  child = mutate(bestParent)\n",
        "  childFitness = get_fitness(child)\n",
        "  \n",
        "  if bestFitness >= childFitness:\n",
        "    continue\n",
        "  display(child)\n",
        "  if childFitness >= len(bestParent):\n",
        "    break\n",
        "  bestFitness = childFitness\n",
        "  bestParent = child\n",
        "print(i)"
      ],
      "execution_count": 19,
      "outputs": [
        {
          "output_type": "stream",
          "text": [
            "kxtsIBmHg.dW\t1\t0:05:57.749836\n",
            "ketsIBmHg.dW\t2\t0:05:57.752284\n",
            "ketsIBmog.dW\t3\t0:05:57.754050\n",
            "ketsIBmor.dW\t4\t0:05:57.755047\n",
            "ketsI mor.dW\t5\t0:05:57.756763\n",
            "ketsI wor.dW\t6\t0:05:57.763452\n",
            "ketsI worldW\t7\t0:05:57.764095\n",
            "kelsI worldW\t8\t0:05:57.764374\n",
            "kelso worldW\t9\t0:05:57.765773\n",
            "kelso world!\t10\t0:05:57.772181\n",
            "helso world!\t11\t0:05:57.774135\n",
            "hello world!\t12\t0:05:57.778235\n",
            "2531\n"
          ],
          "name": "stdout"
        }
      ]
    }
  ]
}