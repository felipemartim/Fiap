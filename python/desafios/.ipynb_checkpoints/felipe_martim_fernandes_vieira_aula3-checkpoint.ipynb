{
 "cells": [
  {
   "cell_type": "markdown",
   "metadata": {},
   "source": [
    "# Exercícios"
   ]
  },
  {
   "cell_type": "markdown",
   "metadata": {},
   "source": [
    "## 1) Crie uma classe que irá modelar características geométricas de um círculo. Deverá implementar os métodos:\n",
    "        -> Área \n",
    "        -> Perímetro\n",
    "## Utilize atributos de classe e de instância apropriados. Crie um inicializador e métodos.\n",
    "$area = \\pi*r^2$\n",
    "\n",
    "$perimetro = 2*\\pi*r$"
   ]
  },
  {
   "cell_type": "code",
   "execution_count": 9,
   "metadata": {},
   "outputs": [
    {
     "name": "stdout",
     "output_type": "stream",
     "text": [
      "31.41592653589793\n",
      "78.53981633974483\n"
     ]
    }
   ],
   "source": [
    "# resposta 1\n",
    "import math\n",
    "\n",
    "class Circle:\n",
    "    def __init__(self, radius):\n",
    "        self.radius = radius\n",
    "        \n",
    "    def get_area(self):\n",
    "        return math.pi * (self.radius**2)\n",
    "    \n",
    "    def get_perimeter(self):\n",
    "        return 2*math.pi*self.radius\n",
    "    \n",
    "c = Circle(5)\n",
    "print(c.get_perimeter())\n",
    "print(c.get_area())"
   ]
  },
  {
   "cell_type": "markdown",
   "metadata": {},
   "source": [
    "## 2) Crie uma classe chamada matemática que conterá duas classes: trigonométrica e algébrica. Defina dentro da classe trigonométrica as seguintes funções:\n",
    "    -> seno\n",
    "    -> cosseno\n",
    "    -> tangente\n",
    "## Defina dentro da classe algébrica as seguintes funções: \n",
    "    -> soma\n",
    "    -> subtração\n",
    "    -> multiplicação\n",
    "    -> divisão\n",
    "## Cada função deverá receber array e retornar array"
   ]
  },
  {
   "cell_type": "code",
   "execution_count": 43,
   "metadata": {},
   "outputs": [
    {
     "name": "stdout",
     "output_type": "stream",
     "text": [
      "[ 0.84147098  0.90929743  0.14112001]\n",
      "[ 0.54030231 -0.41614684 -0.9899925 ]\n",
      "[ 1.55740772 -2.18503986 -0.14254654]\n",
      "[5 7 9]\n",
      "[-3 -3 -3]\n",
      "[ 4 10 18]\n",
      "[ 0.25  0.4   0.5 ]\n"
     ]
    }
   ],
   "source": [
    "# resposta 2\n",
    "import numpy as np\n",
    "from functools import reduce\n",
    "\n",
    "class Matematica:\n",
    "    class Trigonometrica:\n",
    "        def seno(self, array):\n",
    "            return np.sin(array)\n",
    "        def cosseno(self, array):\n",
    "            return np.cos(array)\n",
    "        def tangente(self, array):\n",
    "            return np.tan(array)\n",
    "    class Algebrica:\n",
    "        def soma(self, array1, array2):\n",
    "            return array1 + array2\n",
    "        def subtracao(self, array1, array2):\n",
    "            return array1 - array2\n",
    "        def multiplicacao(self, array1, array2):\n",
    "            return array1 * array2\n",
    "        def divisao(self, array1, array2):\n",
    "            return array1 / array2\n",
    "\n",
    "numbers = np.array([1, 2, 3])\n",
    "\n",
    "t = Matematica.Trigonometrica()\n",
    "print(t.seno(numbers))\n",
    "print(t.cosseno(numbers))\n",
    "print(t.tangente(numbers))\n",
    "\n",
    "a = Matematica.Algebrica()\n",
    "numbers2 = np.array([4, 5, 6])\n",
    "\n",
    "print(a.soma(numbers, numbers2))\n",
    "print(a.subtracao(numbers, numbers2))\n",
    "print(a.multiplicacao(numbers, numbers2))\n",
    "print(a.divisao(numbers, numbers2))"
   ]
  },
  {
   "cell_type": "markdown",
   "metadata": {},
   "source": [
    "## 3) Dados 2 arrays, A e B, remova de A todo elemento pertencente a B"
   ]
  },
  {
   "cell_type": "code",
   "execution_count": 184,
   "metadata": {},
   "outputs": [
    {
     "name": "stdout",
     "output_type": "stream",
     "text": [
      "[2 2 2 4 6 6]\n"
     ]
    }
   ],
   "source": [
    "# resposta 3\n",
    "A = np.array([1, 2, 2, 2, 3, 3, 4, 5, 5, 6, 6])\n",
    "B = np.array([1, 3, 5])\n",
    "\n",
    "A = A[~np.in1d(A, B)]\n",
    "print(A)"
   ]
  },
  {
   "cell_type": "markdown",
   "metadata": {},
   "source": [
    "## 4) Crie uma função que recebe um array, um inteiro n e um inteiro m e que retorne outro array contendo elementos que estão entre os valores n e m do array recebido pela função. "
   ]
  },
  {
   "cell_type": "code",
   "execution_count": 164,
   "metadata": {},
   "outputs": [
    {
     "name": "stdout",
     "output_type": "stream",
     "text": [
      "[30 40 50 60]\n"
     ]
    }
   ],
   "source": [
    "# resposta 4\n",
    "def array_subset(array, n, m):\n",
    "    return array[(array >= n) & (array < m)]\n",
    "\n",
    "print(array_subset(np.array([10, 20, 30, 40, 50, 60, 70, 80, 90, 100]), 30, 70))"
   ]
  },
  {
   "cell_type": "markdown",
   "metadata": {},
   "source": [
    "## 5) Escreva uma função que recebe um vetor e um inteiro. Compare cada elemento desse vetor com o número inteiro. Se o elemento do vetor for maior, retorne a diferença entre eles, caso contrário, retorne a soma."
   ]
  },
  {
   "cell_type": "code",
   "execution_count": 163,
   "metadata": {},
   "outputs": [
    {
     "name": "stdout",
     "output_type": "stream",
     "text": [
      "[4 5 6 1 2 3]\n"
     ]
    }
   ],
   "source": [
    "# resposta 5\n",
    "\n",
    "def funcao_maluca(vetor, n):\n",
    "    return np.where(vetor > n, vetor - n, vetor + n)\n",
    "\n",
    "print(funcao_maluca(np.array([1, 2, 3, 4, 5, 6]), 3))\n"
   ]
  },
  {
   "cell_type": "markdown",
   "metadata": {},
   "source": [
    "## 6) Dada a seguinte matriz:\n",
    "    -> [ 8,1,7\n",
    "         4,3,9\n",
    "         5,2,6]\n",
    "## escreva uma função que retorne a matriz ordenada por um dos eixos. utilize a função built-in sorted para realizar a ordenação"
   ]
  },
  {
   "cell_type": "code",
   "execution_count": 162,
   "metadata": {},
   "outputs": [
    {
     "name": "stdout",
     "output_type": "stream",
     "text": [
      "[[ 2  8  9 10]\n",
      " [ 2  3  7  9]]\n"
     ]
    }
   ],
   "source": [
    "# resposta 6\n",
    "\n",
    "def sort_matrix(matrix, axis):\n",
    "    return np.apply_along_axis(sorted, axis, arr = matrix)\n",
    "\n",
    "matrix = np.array([[ 10, 8, 2, 9], [ 7, 3, 9, 2]])\n",
    "matrix = sort_matrix(matrix, 1)\n",
    "print(matrix)"
   ]
  }
 ],
 "metadata": {
  "kernelspec": {
   "display_name": "Python 3",
   "language": "python",
   "name": "python3"
  },
  "language_info": {
   "codemirror_mode": {
    "name": "ipython",
    "version": 3
   },
   "file_extension": ".py",
   "mimetype": "text/x-python",
   "name": "python",
   "nbconvert_exporter": "python",
   "pygments_lexer": "ipython3",
   "version": "3.6.8"
  }
 },
 "nbformat": 4,
 "nbformat_minor": 4
}
