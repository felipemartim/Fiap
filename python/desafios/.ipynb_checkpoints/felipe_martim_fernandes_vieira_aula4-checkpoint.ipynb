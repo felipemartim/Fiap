{
 "cells": [
  {
   "cell_type": "markdown",
   "metadata": {},
   "source": [
    "# Exercícios"
   ]
  },
  {
   "cell_type": "markdown",
   "metadata": {},
   "source": [
    "## 1) Considerando o código abaixo, faça:\n",
    "    -> Crie um df a partir de data cujo index seja labels. Faça os imports necessários\n",
    "    -> Preencha os valores faltantes com a média dos valores\n",
    "    -> Retorne uma lista dos animais únicos\n",
    "    -> Compute as estatísticas básicas (contagem, soma, média, desvio padrão e variância)"
   ]
  },
  {
   "cell_type": "code",
   "execution_count": 122,
   "metadata": {},
   "outputs": [],
   "source": [
    "import pandas as pd\n",
    "from pandas import Series, DataFrame\n",
    "import numpy as np\n",
    "\n",
    "data = {'animal': ['cat', 'cat', 'snake', 'dog', 'dog', 'cat', 'snake', 'cat', 'dog', 'dog'],\n",
    "        'age': [2.5, 3, 0.5, np.nan, 5, 2, 4.5, np.nan, 7, 3],\n",
    "        'visits': [1, 3, 2, 3, 2, 3, 1, 1, 2, 1],\n",
    "        'priority': ['yes', 'yes', 'no', 'yes', 'no', 'no', 'no', 'yes', 'no', 'no']}\n",
    "\n",
    "labels = ['a', 'b', 'c', 'd', 'e', 'f', 'g', 'h', 'i', 'j']"
   ]
  },
  {
   "cell_type": "code",
   "execution_count": 176,
   "metadata": {},
   "outputs": [
    {
     "name": "stdout",
     "output_type": "stream",
     "text": [
      "  animal  age  visits priority\n",
      "a    cat  2.5       1      yes\n",
      "b    cat  3.0       3      yes\n",
      "c  snake  0.5       2       no\n",
      "d    dog  NaN       3      yes\n",
      "e    dog  5.0       2       no\n",
      "f    cat  2.0       3       no\n",
      "g  snake  4.5       1       no\n",
      "h    cat  NaN       1      yes\n",
      "i    dog  7.0       2       no\n",
      "j    dog  3.0       1       no\n"
     ]
    }
   ],
   "source": [
    "# resposta 1- A\n",
    "df = DataFrame(data, index = labels)\n",
    "print(df)"
   ]
  },
  {
   "cell_type": "code",
   "execution_count": 125,
   "metadata": {},
   "outputs": [
    {
     "name": "stdout",
     "output_type": "stream",
     "text": [
      "  animal     age  visits priority\n",
      "a    cat  2.5000       1      yes\n",
      "b    cat  3.0000       3      yes\n",
      "c  snake  0.5000       2       no\n",
      "d    dog  3.4375       3      yes\n",
      "e    dog  5.0000       2       no\n",
      "f    cat  2.0000       3       no\n",
      "g  snake  4.5000       1       no\n",
      "h    cat  3.4375       1      yes\n",
      "i    dog  7.0000       2       no\n",
      "j    dog  3.0000       1       no\n"
     ]
    }
   ],
   "source": [
    "#resposta 1- B\n",
    "df[\"age\"] = df[\"age\"].fillna(df[\"age\"].mean())\n",
    "print(df)"
   ]
  },
  {
   "cell_type": "code",
   "execution_count": 126,
   "metadata": {},
   "outputs": [
    {
     "name": "stdout",
     "output_type": "stream",
     "text": [
      "['cat' 'snake' 'dog']\n"
     ]
    }
   ],
   "source": [
    "print(df[\"animal\"].unique())"
   ]
  },
  {
   "cell_type": "code",
   "execution_count": 127,
   "metadata": {},
   "outputs": [
    {
     "name": "stdout",
     "output_type": "stream",
     "text": [
      "animal      10\n",
      "age         10\n",
      "visits      10\n",
      "priority    10\n",
      "dtype: int64\n",
      "age       3.135417\n",
      "visits    0.766667\n",
      "dtype: float64\n",
      "age       1.770711\n",
      "visits    0.875595\n",
      "dtype: float64\n",
      "animal      catcatsnakedogdogcatsnakecatdogdog\n",
      "age                                     34.375\n",
      "visits                                      19\n",
      "priority              yesyesnoyesnononoyesnono\n",
      "dtype: object\n",
      "age       3.4375\n",
      "visits    1.9000\n",
      "dtype: float64\n"
     ]
    }
   ],
   "source": [
    "print(df.count())\n",
    "print(df.var())\n",
    "print(df.std())\n",
    "print(df.sum())\n",
    "print(df.mean())"
   ]
  },
  {
   "cell_type": "markdown",
   "metadata": {},
   "source": [
    "## 2) Considerando o mesmo código, faça:\n",
    "    -> Crie uma função que multiplique o número de visitas por 2. Retorne o data frame completo com valores atualizados\n",
    "    -> Crie uma função que insere uma coluna que contenha um ranking dos animais mais visitados. Retorne o dataframe ordenado de forma descendente\n",
    "    -> Verifique se os animais da seguinte lista pertencem aos dados originais: New_animals = [‘cow’,’horse’,shark’]"
   ]
  },
  {
   "cell_type": "code",
   "execution_count": 137,
   "metadata": {},
   "outputs": [
    {
     "name": "stdout",
     "output_type": "stream",
     "text": [
      "  animal     age  visits priority\n",
      "a    cat  2.5000       2      yes\n",
      "b    cat  3.0000       6      yes\n",
      "c  snake  0.5000       4       no\n",
      "d    dog  3.4375       6      yes\n",
      "e    dog  5.0000       4       no\n",
      "f    cat  2.0000       6       no\n",
      "g  snake  4.5000       2       no\n",
      "h    cat  3.4375       2      yes\n",
      "i    dog  7.0000       4       no\n",
      "j    dog  3.0000       2       no\n"
     ]
    }
   ],
   "source": [
    "# resposta 2- A\n",
    "def multiply_visits_by2(df):\n",
    "    result = df.copy()\n",
    "    result[\"visits\"] = result[\"visits\"] * 2\n",
    "    return result\n",
    "\n",
    "print(multiply_visits_by2(df))"
   ]
  },
  {
   "cell_type": "code",
   "execution_count": 155,
   "metadata": {},
   "outputs": [
    {
     "name": "stdout",
     "output_type": "stream",
     "text": [
      "  animal     age  visits priority  rank\n",
      "b    cat  3.0000       3      yes   1.0\n",
      "d    dog  3.4375       3      yes   1.0\n",
      "f    cat  2.0000       3       no   1.0\n",
      "c  snake  0.5000       2       no   4.0\n",
      "e    dog  5.0000       2       no   4.0\n",
      "i    dog  7.0000       2       no   4.0\n",
      "a    cat  2.5000       1      yes   7.0\n",
      "g  snake  4.5000       1       no   7.0\n",
      "h    cat  3.4375       1      yes   7.0\n",
      "j    dog  3.0000       1       no   7.0\n"
     ]
    }
   ],
   "source": [
    "# resposta 2- B\n",
    "def insert_rank_and_order(df):\n",
    "    result = df.copy()\n",
    "    result[\"rank\"] = df[\"visits\"].rank(method=\"min\", ascending=0)\n",
    "    return result.sort_values(by=\"rank\")\n",
    "\n",
    "print(insert_rank_and_order(df))"
   ]
  },
  {
   "cell_type": "code",
   "execution_count": 187,
   "metadata": {},
   "outputs": [
    {
     "data": {
      "text/plain": [
       "0    False\n",
       "1    False\n",
       "2    False\n",
       "dtype: bool"
      ]
     },
     "execution_count": 187,
     "metadata": {},
     "output_type": "execute_result"
    }
   ],
   "source": [
    "# resposta 2- C\n",
    "New_animals = Series(['cow','horse','shark'])\n",
    "New_animals.isin(df[\"animal\"])"
   ]
  },
  {
   "cell_type": "markdown",
   "metadata": {},
   "source": [
    "## 3) Crie uma função que filtre as linhas do df no código abaixo de acordo com a palavra-chave passada como parâmetro (apenas estado):"
   ]
  },
  {
   "cell_type": "code",
   "execution_count": 157,
   "metadata": {},
   "outputs": [
    {
     "name": "stdout",
     "output_type": "stream",
     "text": [
      "          DateofBirth State\n",
      "Jane       1986-11-11    NY\n",
      "Nick       1999-05-12    TX\n",
      "Aaron      1976-01-01    FL\n",
      "Penelope   1986-06-01    AL\n",
      "Dean       1983-06-04    AK\n",
      "Christina  1990-03-07    TX\n",
      "Cornelia   1999-07-09    TX\n"
     ]
    }
   ],
   "source": [
    "df = pd.DataFrame({'DateofBirth':['1986-11-11','1999-05-12','1976-01-01',\n",
    "                                  '1986-06-01','1983-06-04','1990-03-07',\n",
    "                                  '1999-07-09'],\n",
    "                   'State':['NY','TX','FL','AL','AK','TX','TX']},\n",
    "                 index=['Jane','Nick','Aaron','Penelope','Dean',\n",
    "                        'Christina','Cornelia'])\n",
    "print(df)"
   ]
  },
  {
   "cell_type": "code",
   "execution_count": 172,
   "metadata": {},
   "outputs": [
    {
     "data": {
      "text/html": [
       "<div>\n",
       "<style scoped>\n",
       "    .dataframe tbody tr th:only-of-type {\n",
       "        vertical-align: middle;\n",
       "    }\n",
       "\n",
       "    .dataframe tbody tr th {\n",
       "        vertical-align: top;\n",
       "    }\n",
       "\n",
       "    .dataframe thead th {\n",
       "        text-align: right;\n",
       "    }\n",
       "</style>\n",
       "<table border=\"1\" class=\"dataframe\">\n",
       "  <thead>\n",
       "    <tr style=\"text-align: right;\">\n",
       "      <th></th>\n",
       "      <th>DateofBirth</th>\n",
       "      <th>State</th>\n",
       "    </tr>\n",
       "  </thead>\n",
       "  <tbody>\n",
       "    <tr>\n",
       "      <td>Aaron</td>\n",
       "      <td>1976-01-01</td>\n",
       "      <td>FL</td>\n",
       "    </tr>\n",
       "  </tbody>\n",
       "</table>\n",
       "</div>"
      ],
      "text/plain": [
       "      DateofBirth State\n",
       "Aaron  1976-01-01    FL"
      ]
     },
     "execution_count": 172,
     "metadata": {},
     "output_type": "execute_result"
    }
   ],
   "source": [
    "def filter_by_state(state):\n",
    "    return df[df[\"State\"] == state]\n",
    "    \n",
    "filter_by_state(\"FL\")"
   ]
  }
 ],
 "metadata": {
  "kernelspec": {
   "display_name": "Python 3",
   "language": "python",
   "name": "python3"
  },
  "language_info": {
   "codemirror_mode": {
    "name": "ipython",
    "version": 3
   },
   "file_extension": ".py",
   "mimetype": "text/x-python",
   "name": "python",
   "nbconvert_exporter": "python",
   "pygments_lexer": "ipython3",
   "version": "3.6.8"
  }
 },
 "nbformat": 4,
 "nbformat_minor": 4
}
