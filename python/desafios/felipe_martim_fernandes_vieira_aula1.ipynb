{
 "cells": [
  {
   "cell_type": "markdown",
   "metadata": {},
   "source": [
    "# Exercícios"
   ]
  },
  {
   "cell_type": "markdown",
   "metadata": {},
   "source": [
    "## 1) Inicie uma variável com o valor “josé da silva martins” e converta para o formato “José Da Silva Martins”, com uma única operação. Utilize string e/ou capwords.\n"
   ]
  },
  {
   "cell_type": "code",
   "execution_count": 83,
   "metadata": {},
   "outputs": [
    {
     "data": {
      "text/plain": [
       "'José Da Silva Martins'"
      ]
     },
     "execution_count": 83,
     "metadata": {},
     "output_type": "execute_result"
    }
   ],
   "source": [
    "from string import capwords\n",
    "\n",
    "nome = \"josé da silva martins\"\n",
    "capwords(nome)"
   ]
  },
  {
   "cell_type": "markdown",
   "metadata": {},
   "source": [
    "## 2) Crie uma função que verifique se um determinado número é ímpar, sendo ímpar deverá retornar verdadeiro e falso o contrário."
   ]
  },
  {
   "cell_type": "code",
   "execution_count": 116,
   "metadata": {},
   "outputs": [
    {
     "data": {
      "text/plain": [
       "True"
      ]
     },
     "execution_count": 116,
     "metadata": {},
     "output_type": "execute_result"
    }
   ],
   "source": [
    "def eh_impar(num):\n",
    "    if(num % 2 == 1):\n",
    "        return True\n",
    "    else:\n",
    "        return False\n",
    "    \n",
    "eh_impar(3)"
   ]
  },
  {
   "cell_type": "markdown",
   "metadata": {},
   "source": [
    "## 3) Dado uma lista l = [1.2232, 2.322, 43.23131, 6.34324, 78.3243] transforme seus valores para que ao final tenhamos números arrendados na segunda casa decimal. Utilize a função built-in round(numero, casas_decimais)\n"
   ]
  },
  {
   "cell_type": "code",
   "execution_count": 63,
   "metadata": {},
   "outputs": [
    {
     "data": {
      "text/plain": [
       "[1.22, 2.32, 43.23, 6.34, 78.32]"
      ]
     },
     "execution_count": 63,
     "metadata": {},
     "output_type": "execute_result"
    }
   ],
   "source": [
    "l = [1.2232, 2.322, 43.23131, 6.34324, 78.3243]\n",
    "l = [ round(elem, 2) for elem in l ]\n",
    "l"
   ]
  },
  {
   "cell_type": "markdown",
   "metadata": {},
   "source": [
    "## 4) Crie uma função que retorne na forma de um dicionário as seguintes informações do texto abaixo: número de palavras (e palavras), número de números (e números) e número de frases (e frases). Utilize a função built-in isdigit() do pacote string para verificar se determinado caractere é número e split(separador) para criar uma lista a partir do caracatere ou token de separação."
   ]
  },
  {
   "cell_type": "raw",
   "metadata": {},
   "source": [
    "Brasil, oficialmente República Federativa do Brasil é o maior país da América do Sul e da região da América Latina, sendo o quinto maior do mundo em área territorial (equivalente a 47 porcento do território sul-americano) e sexto em população (com mais de 200 milhões de habitantes). É o único país na América onde se fala majoritariamente a língua portuguesa e o maior país lusófono do planeta, além de ser uma das nações mais multiculturais e etnicamente diversas, em decorrência da forte imigração oriunda de variados locais do mundo."
   ]
  },
  {
   "cell_type": "code",
   "execution_count": 117,
   "metadata": {},
   "outputs": [
    {
     "data": {
      "text/plain": [
       "{'words': 87, 'digits': 2, 'phrases': 2}"
      ]
     },
     "execution_count": 117,
     "metadata": {},
     "output_type": "execute_result"
    }
   ],
   "source": [
    "from functools import reduce\n",
    "\n",
    "def reducer_digit(list, word):\n",
    "    if word.isdigit(): list.append(word)\n",
    "    return list\n",
    "\n",
    "def reducer_word(list, word):\n",
    "    if (not word.isdigit()): list.append(word)\n",
    "    return list\n",
    "\n",
    "def funcao():\n",
    "    text = \"Brasil, oficialmente República Federativa do Brasil é o maior país da América do Sul e da região da América Latina, sendo o quinto maior do mundo em área territorial (equivalente a 47 porcento do território sul-americano) e sexto em população (com mais de 200 milhões de habitantes). É o único país na América onde se fala majoritariamente a língua portuguesa e o maior país lusófono do planeta, além de ser uma das nações mais multiculturais e etnicamente diversas, em decorrência da forte imigração oriunda de variados locais do mundo.\"\n",
    "\n",
    "    digits = reduce(reducer_digit, text.split(\" \"), [])\n",
    "    words = reduce(reducer_word, text.split(\" \"), [])\n",
    "    phrases = text.split(\".\")[:-1]\n",
    "\n",
    "    dictionary = { \n",
    "        \"words\": len(words),\n",
    "        \"digits\": len(digits),\n",
    "        \"phrases\": len(phrases)\n",
    "    }\n",
    "    return dictionary\n",
    "\n",
    "funcao()"
   ]
  },
  {
   "cell_type": "markdown",
   "metadata": {},
   "source": [
    "## 5) Implemente um algoritmo que calcule o fatorial de número de modo não-recursivo"
   ]
  },
  {
   "cell_type": "code",
   "execution_count": 71,
   "metadata": {},
   "outputs": [
    {
     "data": {
      "text/plain": [
       "6"
      ]
     },
     "execution_count": 71,
     "metadata": {},
     "output_type": "execute_result"
    }
   ],
   "source": [
    "def fatorial(num):\n",
    "    result = 1\n",
    "    i = num\n",
    "    while(i > 1):\n",
    "        result *= i\n",
    "        i -= 1\n",
    "    return result\n",
    "    \n",
    "fatorial(3)  "
   ]
  },
  {
   "cell_type": "markdown",
   "metadata": {},
   "source": [
    "## 6) Implemente duas funções:\n",
    "> Uma que converta graus Celsius para Fahrenheit\n",
    "\n",
    "> Outra que converta graus Fahrenheit para Celsius\n",
    "\n",
    "> 𝐹=  9/5×𝐶+32"
   ]
  },
  {
   "cell_type": "code",
   "execution_count": 109,
   "metadata": {},
   "outputs": [],
   "source": [
    "def celsius_to_fahrenheit(degrees):\n",
    "    return 9/5*degrees + 32\n",
    "\n",
    "def fahrenheit_to_celsius(degrees):\n",
    "    return 5/9*(degrees - 32)"
   ]
  },
  {
   "cell_type": "markdown",
   "metadata": {},
   "source": [
    "## 7) Implemente uma função que receba uma lista com 100 números, de 0 a 100, e retorne outra lista contendo apenas os números primos. \n",
    "    > Use numpy.arange para gerar a lista"
   ]
  },
  {
   "cell_type": "code",
   "execution_count": 119,
   "metadata": {},
   "outputs": [
    {
     "name": "stdout",
     "output_type": "stream",
     "text": [
      "[1, 2, 3, 5, 7, 11, 13, 17, 19, 23, 29, 31, 37, 41, 43, 47, 53, 59, 61, 67, 71, 73, 79, 83, 89, 97]\n"
     ]
    }
   ],
   "source": [
    "import numpy as np\n",
    "\n",
    "def primes(numbers):\n",
    "    primes = []\n",
    "    for number in numbers:\n",
    "        is_prime = True\n",
    "        for i in range(2, number):\n",
    "            if number % i == 0: \n",
    "                is_prime = False\n",
    "                break\n",
    "        if(is_prime):\n",
    "            primes.append(number)\n",
    "    return primes\n",
    "\n",
    "print(primes(np.arange(1, 101)))\n",
    "                "
   ]
  },
  {
   "cell_type": "code",
   "execution_count": null,
   "metadata": {},
   "outputs": [],
   "source": []
  }
 ],
 "metadata": {
  "kernelspec": {
   "display_name": "Python 3",
   "language": "python",
   "name": "python3"
  },
  "language_info": {
   "codemirror_mode": {
    "name": "ipython",
    "version": 3
   },
   "file_extension": ".py",
   "mimetype": "text/x-python",
   "name": "python",
   "nbconvert_exporter": "python",
   "pygments_lexer": "ipython3",
   "version": "3.6.8"
  }
 },
 "nbformat": 4,
 "nbformat_minor": 4
}
